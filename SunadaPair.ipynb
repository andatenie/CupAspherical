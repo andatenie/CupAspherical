{
 "cells": [
  {
   "cell_type": "code",
   "execution_count": null,
   "metadata": {},
   "outputs": [],
   "source": [
    "# this code requires SageDocker which you can download at\n",
    "# https://github.com/3-manifolds/sagedocker\n",
    "\n",
    "#the code can be copy-pasted in the terminal once\n",
    "#sage docker is set up\n",
    "\n",
    "\n",
    "S=gap.SmallGroup(32,43);\n",
    "C=gap.function_call('ConjugacyClassesSubgroups',S);\n",
    "H1=gap.function_call('Representative',C[15]);\n",
    "H2=gap.function_call('Representative',C[14]);\n",
    "M=snappy.Manifold('t10238(0,0)');\n",
    "M.dehn_fill((2,1),0);\n",
    "G=M.fundamental_group();\n",
    "G=gap(G);\n",
    "if(G.GQuotients(S).Length()>0):\n",
    "f = G.GQuotients(S)[1];\n",
    "H1p=gap.PreImage(f,H1);\n",
    "H2p=gap.PreImage(f,H2);\n",
    "M1 = M.cover(H1p);\n",
    "M2 = M.cover(H2p);\n",
    "if((M1.homology()==M2.homology())==false):\n",
    "print(\"homology \", M1.homology(), \" and homology \",M2.homology());\n",
    "\n"
   ]
  }
 ],
 "metadata": {
  "kernelspec": {
   "display_name": "Python 3",
   "language": "python",
   "name": "python3"
  },
  "language_info": {
   "codemirror_mode": {
    "name": "ipython",
    "version": 3
   },
   "file_extension": ".py",
   "mimetype": "text/x-python",
   "name": "python",
   "nbconvert_exporter": "python",
   "pygments_lexer": "ipython3",
   "version": "3.7.3"
  }
 },
 "nbformat": 4,
 "nbformat_minor": 5
}
