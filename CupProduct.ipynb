{
 "cells": [
  {
   "cell_type": "code",
   "execution_count": 6,
   "metadata": {
    "scrolled": true
   },
   "outputs": [],
   "source": [
    "\n",
    "#computes the fox derivative on element with respect to index and then takes the\n",
    "#augmentation map. it returns the result which is an integer\n",
    "def AugmentFoxDerivative(element, index):\n",
    "    sum=0\n",
    "    if (len(element)==0):\n",
    "        return 0;\n",
    "    if (len(element)>0):\n",
    "        for indexi in range (0,len(element)):\n",
    "            if (element[indexi]==index):\n",
    "                sum=sum+1\n",
    "                if (indexi+1<len(element)):\n",
    "                    if (element[indexi+1]=='^'):\n",
    "                        sum=sum+(int(element[indexi+2])-1)\n",
    "            elif (element[indexi].lower()==index):\n",
    "                sum=sum-1\n",
    "                if (indexi+1<len(element)):\n",
    "                    if (element[indexi+1]=='^'):\n",
    "                        sum=sum-(int(element[indexi+2])-1)\n",
    "    return sum\n",
    "\n",
    "            \n",
    "            \n",
    "\n"
   ]
  },
  {
   "cell_type": "code",
   "execution_count": 7,
   "metadata": {},
   "outputs": [],
   "source": [
    "# Fox derivative takes in a string element (the relator) and a 1 letter string \n",
    "# index(which tells what to differentiate with respect to). the input result \n",
    "# should be an element in the free algebra on generators\n",
    "\n",
    "\n",
    "def FoxDerivative(element, index, result):\n",
    "    if (len(element)==0):\n",
    "        return 0;\n",
    "    if (len(element)>0):\n",
    "        if (element[0].isupper()==False):\n",
    "            if (element[0]==index):\n",
    "                result= (eval(element[0])*FoxDerivative(element[1:], index,result))+1\n",
    "            else:\n",
    "                result=eval(element[0])*FoxDerivative(element[1:], index,result)\n",
    "        elif (element[0].isupper()==True):\n",
    "            if (element[0].lower()==index):\n",
    "                result=(-1)*eval(element[0])+ eval(element[0])*FoxDerivative(element[1:], index,result)\n",
    "            else:\n",
    "                result=eval(element[0])*FoxDerivative(element[1:], index,result)      \n",
    "    return (result)\n"
   ]
  },
  {
   "cell_type": "code",
   "execution_count": 8,
   "metadata": {},
   "outputs": [],
   "source": [
    "#removes substrings of type aA which are identity\n",
    "def remove_identity(s):\n",
    "    #print(\"in \", s)\n",
    "    r=len(s)\n",
    "    indexi=0\n",
    "    while(indexi<r-1):\n",
    "        if (s[indexi]==s[indexi+1].swapcase()):\n",
    "            if (indexi+2<r):\n",
    "                s=s[:indexi]+s[indexi+2:]\n",
    "                if (indexi>0):\n",
    "                    indexi=indexi-2\n",
    "                elif(indexi==0):\n",
    "                    indexi=indexi-1\n",
    "                r=r-2\n",
    "            elif (indexi+2==r):\n",
    "                return s[:indexi]     \n",
    "        indexi=indexi+1\n",
    "    return s"
   ]
  },
  {
   "cell_type": "code",
   "execution_count": 9,
   "metadata": {},
   "outputs": [],
   "source": [
    "#mirror of a string\n",
    "def reverse_slicing(s):\n",
    "    return s[::-1]\n",
    "\n"
   ]
  },
  {
   "cell_type": "code",
   "execution_count": 25,
   "metadata": {},
   "outputs": [
    {
     "ename": "IndentationError",
     "evalue": "expected an indented block (<ipython-input-25-56eae6c423ba>, line 8)",
     "output_type": "error",
     "traceback": [
      "\u001b[0;36m  File \u001b[0;32m\"<ipython-input-25-56eae6c423ba>\"\u001b[0;36m, line \u001b[0;32m8\u001b[0m\n\u001b[0;31m    warnings.simplefilter(\"ignore\")\u001b[0m\n\u001b[0m           ^\u001b[0m\n\u001b[0;31mIndentationError\u001b[0m\u001b[0;31m:\u001b[0m expected an indented block\n"
     ]
    }
   ],
   "source": [
    "#takes the double Fox derivative first wrt index1 and then wrt index2\n",
    "\n",
    "import warnings\n",
    "\n",
    "def fxn():\n",
    "    warnings.warn(\"deprecated\", DeprecationWarning)\n",
    "    with warnings.catch_warnings():\n",
    "    warnings.simplefilter(\"ignore\")\n",
    "    fxn()\n",
    "def DoubleFoxDeriv(element, index1,index2,result):\n",
    "    result1.<a,b,c,d,e,f,g,h,i,A,B,C,D,E,F,G,H,I> = FreeAlgebra(QQ, 2*number_generators)\n",
    "    (a,b,c,d,e,f,g,h,i,A,B,C,D,E,F,G,H,I)=result1.gens()\n",
    "    result=1\n",
    "    result1=FoxDerivative(element,index1, result)\n",
    "    ListCoefficients=result1.coefficients()\n",
    "    string=str(result1)\n",
    "    import re\n",
    "    SplitFirstDerivative=re.split(' \\+ | - ', string)\n",
    "    ListSecondDerivativeValues=[]\n",
    "    for indexi in range (0,len(SplitFirstDerivative)):\n",
    "        ListSecondDerivativeValues.append(AugmentFoxDerivative(str(SplitFirstDerivative[indexi]),index2))\n",
    "    sum=0\n",
    "    for indexi in range(0, len(ListCoefficients)):\n",
    "        sum=sum+ListCoefficients[indexi]*ListSecondDerivativeValues[indexi]\n",
    "    return sum\n",
    "        \n",
    "\n",
    "\n"
   ]
  },
  {
   "cell_type": "code",
   "execution_count": 17,
   "metadata": {
    "scrolled": true
   },
   "outputs": [
    {
     "name": "stdout",
     "output_type": "stream",
     "text": [
      "[ [ 0, 0, 4, 0, 0, 0, -2, 0, 0 ], [ 0, 2, 0, 2, 0, 2, 2, -2, 2 ], \n",
      "  [ 0, 0, 0, 0, 0, 0, 2, 0, 0 ], [ 0, 0, 0, 0, 2, 0, 0, 0, 0 ], \n",
      "  [ 0, 0, 0, 0, 2, 0, 0, 0, 0 ], [ 0, 0, 4, 0, 0, 0, 0, 0, 0 ], \n",
      "  [ 0, 0, 0, 0, 0, 0, 2, 0, 0 ], [ 0, 0, -4, 2, 0, 0, 2, 4, 0 ], \n",
      "  [ 0, 0, 0, 2, 0, 0, 0, 0, 0 ] ]\n",
      "rec(\n",
      "  normal := [ [ 0, 2, 0, 0, 0, 2, 0, 2, 2 ], [ 0, 0, 4, 0, 0, 0, 0, 0, 0 ], \n",
      "      [ 0, 0, 0, 2, 0, 0, 0, 0, 0 ], [ 0, 0, 0, 0, 2, 0, 0, 0, 0 ], \n",
      "      [ 0, 0, 0, 0, 0, 0, 2, 0, 0 ], [ 0, 0, 0, 0, 0, 0, 0, 4, 0 ], \n",
      "      [ 0, 0, 0, 0, 0, 0, 0, 0, 0 ], [ 0, 0, 0, 0, 0, 0, 0, 0, 0 ], \n",
      "      [ 0, 0, 0, 0, 0, 0, 0, 0, 0 ] ],\n",
      "  rank := 6,\n",
      "  rowC := [ [ 1, 1, 0, 0, 0, 0, 0, 0, 0 ], [ 0, 1, 0, 0, 0, 0, 0, 0, 0 ], \n",
      "      [ 0, 0, 1, 0, 0, 0, 0, 1, 0 ], [ 0, 0, 0, 1, 0, 0, 0, 0, 0 ], \n",
      "      [ 0, 0, 0, 0, 1, 1, 0, 0, 0 ], [ 0, 0, 0, 0, 0, 1, 0, 0, 1 ], \n",
      "      [ 0, 0, 0, 0, 0, 0, 1, 0, 0 ], [ 0, 0, 0, 0, 0, 0, 0, 1, 0 ], \n",
      "      [ 0, 0, 0, 0, 0, 0, 0, 0, 1 ] ],\n",
      "  rowQ := [ [ 3, -2, 1, 0, 0, -2, 0, 0, 0 ], [ 0, 0, 0, -1, 1, 0, 0, 0, 0 ], \n",
      "      [ 0, 0, 0, 1, -1, 1, 0, 0, 0 ], [ 0, 0, 0, 1, 0, 0, 0, 0, 0 ], \n",
      "      [ -1, 1, 0, -1, 1, 0, 0, 0, 0 ], [ 2, -2, 1, 0, 0, -1, 0, 0, 0 ], \n",
      "      [ 1, -1, 0, 1, -1, 0, 1, 0, 0 ], [ -1, 1, -1, -1, 1, 0, 0, 1, 0 ], \n",
      "      [ 0, 0, 0, -1, 1, -1, 0, 0, 1 ] ],\n",
      "  rowtrans := \n",
      "   [ [ 3, 1, 1, 0, 0, -2, 0, 1, -2 ], [ 0, 0, 0, -1, 1, 1, 0, 0, 0 ], \n",
      "      [ 0, 0, 0, 1, -1, 0, 0, 0, 1 ], [ 0, 0, 0, 1, 0, 0, 0, 0, 0 ], \n",
      "      [ -1, 0, 0, -1, 1, 1, 0, 0, 0 ], [ 2, 0, 1, 0, 0, -1, 0, 1, -1 ], \n",
      "      [ 1, 0, 0, 1, -1, -1, 1, 0, 0 ], [ -1, 0, -1, -1, 1, 1, 0, 0, 0 ], \n",
      "      [ 0, 0, 0, -1, 1, 0, 0, 0, 0 ] ],\n",
      "  signdet := 0 )\n"
     ]
    }
   ],
   "source": [
    "# the two saved relators correspond to the fundamental groups of the two strongly \n",
    "# isospectral manifolds. We begin by getting the presenation in echelon form \n",
    "Generators=['a','b','c','d','e', 'f', 'g', 'h', 'i']\n",
    "Relators=['ahAIcGBGHcHicahbAc','aHACbfhgadifcHcbHdAgCi','acgbgCAB','aeBeAb','aefdAgCicaheIDAGHF','ahAcahAfcHcbHFBc','ahBHAgbg','adhChCdAgChChg','adhbHdAB']\n",
    "#Relators=['ccdechCiFeiFeHde', 'bEifbCiFeC','aafDifaafggDifaaff','aiaffaafgDDifaafgf','bHbchC','bCEDbcdecciFif','aafbcdecbEdGGf','bCiFeiFifbCEfI','aiAi']\n",
    "number_generators=len(Generators)\n",
    "r=len(Relators)\n",
    "result.<a,b,c,d,e,f,g,h,i,A,B,C,D,E,F,G,H,I> = FreeAlgebra(QQ, 2*number_generators)\n",
    "(a,b,c,d,e,f,g,h,i,A,B,C,D,E,F,G,H,I)=result.gens()\n",
    "boundarymatrix=[]\n",
    "for indexi in range (0,r):\n",
    "    L=[]\n",
    "    for indexj in range (0,number_generators):\n",
    "        result=1;\n",
    "        result=FoxDerivative(Relators[indexi],Generators[indexj],result)\n",
    "        total=0\n",
    "        for ele in range(0, len(result.coefficients())):\n",
    "            total = total + result.coefficients()[ele]\n",
    "        L.append(total)\n",
    "    boundarymatrix.append(L) \n",
    "T= Matrix(boundarymatrix)\n",
    " # the boundary map\n",
    "T=gap(T)\n",
    "print(T) \n",
    "normal=gap.HermiteNormalFormIntegerMatTransform(T)\n",
    "print(normal)\n",
    "#copy rowtrans to the next cell from what is printed \n"
   ]
  },
  {
   "cell_type": "code",
   "execution_count": 19,
   "metadata": {},
   "outputs": [],
   "source": [
    "#from the matrix of C that we use to get echelon we now obtain the new relators which \n",
    "#are returned as a list RelatorsEchelon\n",
    "\n",
    "rowtrans= Matrix([ [ 3, 1, 1, 0, 0, -2, 0, 1, -2 ], [ 0, 0, 0, -1, 1, 1, 0, 0, 0 ], \n",
    "      [ 0, 0, 0, 1, -1, 0, 0, 0, 1 ], [ 0, 0, 0, 1, 0, 0, 0, 0, 0 ], \n",
    "      [ -1, 0, 0, -1, 1, 1, 0, 0, 0 ], [ 2, 0, 1, 0, 0, -1, 0, 1, -1 ], \n",
    "      [ 1, 0, 0, 1, -1, -1, 1, 0, 0 ], [ -1, 0, -1, -1, 1, 1, 0, 0, 0 ], \n",
    "      [ 0, 0, 0, -1, 1, 0, 0, 0, 0 ] ])\n",
    "rowtrans=gap(rowtrans)\n",
    "#now form the new relators w_i saved in RelatorsEchelon\n",
    "RelatorsEchelon=[]\n",
    "for indexi in range (1,r+1):\n",
    "    Rel=''\n",
    "    for indexj in range (1,r+1):\n",
    "        if (rowtrans[indexi][indexj]>0):\n",
    "            Rel=Rel+(remove_identity(Relators[indexj-1]*int(rowtrans[indexi][indexj]))) #the new ith relator\n",
    "        if (rowtrans[indexi][indexj]<0):\n",
    "            Rel=Rel+(remove_identity(((reverse_slicing(Relators[indexj-1]).swapcase())*((-1)*int(rowtrans[indexi][indexj])))))\n",
    "    if (remove_identity(Rel)!=''):\n",
    "        RelatorsEchelon.append(remove_identity(Rel))\n"
   ]
  },
  {
   "cell_type": "markdown",
   "metadata": {},
   "source": [
    "Work on abelian\n"
   ]
  },
  {
   "cell_type": "code",
   "execution_count": 20,
   "metadata": {
    "scrolled": true
   },
   "outputs": [
    {
     "name": "stdout",
     "output_type": "stream",
     "text": [
      "[0 0 0 0 0 0 0 0 0]\n",
      "[2 0 0 0 0 0 0 0 0]\n",
      "[0 4 0 0 0 0 0 0 0]\n",
      "[0 0 2 0 0 0 0 0 0]\n",
      "[0 0 0 2 0 0 0 0 0]\n",
      "[2 0 0 0 0 0 0 0 0]\n",
      "[0 0 0 0 2 0 0 0 0]\n",
      "[2 0 0 0 0 4 0 0 0]\n",
      "[2 0 0 0 0 0 0 0 0]\n",
      "Free module of degree 9 and rank 3 over Integer Ring\n",
      "Echelon basis matrix:\n",
      "[ 1  0  0  0  0  0  0  0  0]\n",
      "[ 0  1  0  0  0  0  0  0 -1]\n",
      "[ 0  0  0  0  0  1  0  0 -1]\n"
     ]
    }
   ],
   "source": [
    "#this computes the linear map between F_ab tensor Q and G_ab tensor Q\n",
    "#this map then gives the corresponding matrix (a_i,j)  \n",
    "matrixab=[]\n",
    "for indexi in range (0,number_generators):\n",
    "    L=[]\n",
    "    for indexj in range (0,r):\n",
    "        L.append(AugmentFoxDerivative(RelatorsEchelon[indexj], Generators[indexi]))\n",
    "    matrixab.append(L) \n",
    "matrixab = Matrix(matrixab)\n",
    "print(matrixab)\n",
    "map=kernel(matrixab)\n",
    "print(map)\n"
   ]
  },
  {
   "cell_type": "code",
   "execution_count": 22,
   "metadata": {},
   "outputs": [
    {
     "name": "stdout",
     "output_type": "stream",
     "text": [
      "3\n",
      "[ 1  0  0  0  0  0  0  0  0]\n",
      "[ 0  1  0  0  0  0  0  0 -1]\n",
      "[ 0  0  0  0  0  1  0  0 -1]\n"
     ]
    }
   ],
   "source": [
    "#these are the matrices a_i,j for the two presentations of our manifolds\n",
    "#abelian_map=Matrix([\n",
    "#[ 1 , 0 , 0 , 1 , -1 , -1 , 1 ,0, 0  ],\n",
    "#[ 0 , 0 , 0,  2 , -1, 0,   2 , 0 , 0],\n",
    "#[ 0,  0 , 0 , 0  ,0  ,0 , 0,  1 , 0],\n",
    "#])\n",
    "\n",
    "abelian_map=Matrix([\n",
    "[ 1 , 0 , 0 , 0 , 0 , 0 , 0 ,0, 0  ],\n",
    "[ 0 , 1 , 0,  0 , 0, 0,   0 , 0 , -1],\n",
    "[ 0,  0 , 0 , 0  ,0  ,1 , 0,  0 , -1],\n",
    "])\n",
    "dimb=abelian_map.nrows()\n",
    "print(dimb)\n",
    "print(abelian_map)\n"
   ]
  },
  {
   "cell_type": "code",
   "execution_count": 23,
   "metadata": {},
   "outputs": [],
   "source": [
    "#we now compute k(w_k)_(i,j)\n",
    "\n",
    "def CupCoefficients(indexi,indexj,indexk,result):\n",
    "    #print(RelatorsEchelon[k])\n",
    "    sum=0\n",
    "    for s in range (0,number_generators):\n",
    "        for t in range (0,number_generators):\n",
    "            result=1\n",
    "            sum=sum+abelian_map[indexi,s]*abelian_map[indexj,t]*DoubleFoxDeriv(RelatorsEchelon[indexk],Generators[t],Generators[s],result)\n",
    "    return sum\n",
    "            "
   ]
  },
  {
   "cell_type": "code",
   "execution_count": 24,
   "metadata": {},
   "outputs": [
    {
     "name": "stdout",
     "output_type": "stream",
     "text": [
      "[-2 -2  2]\n",
      "[ 0  2 -2]\n",
      "[ 2  2  0]\n",
      "Vector space of degree 3 and dimension 0 over Rational Field\n",
      "Basis matrix:\n",
      "[]\n"
     ]
    },
    {
     "data": {
      "text/plain": [
       "0"
      ]
     },
     "execution_count": 24,
     "metadata": {},
     "output_type": "execute_result"
    }
   ],
   "source": [
    "#finally we find the cup product map and we print its kernel and the\n",
    "#rank of the kernel. for one of the presentations the rank is 3 and\n",
    "#for the other it is 3 \n",
    "result.<a,b,c,d,e,f,g,h,i,A,B,C,D,E,F,G,H,I> = FreeAlgebra(QQ, number_generators*2)\n",
    "(a,b,c,d,e,f,g,h,i,A,B,C,D,E,F,G,H,I)=result.gens()\n",
    "result=1\n",
    "cupmap=[]\n",
    "for indexk in range (number_generators-dimb,r):\n",
    "    L=[]\n",
    "    for indexi in range (0,dimb):\n",
    "        for indexj in range (indexi+1,dimb):\n",
    "            result=1\n",
    "            L.append(CupCoefficients(indexi,indexj,indexk,result))    \n",
    "    cupmap.append(L) \n",
    "cupmap= Matrix(cupmap)\n",
    "print(cupmap)\n",
    "print(cupmap.right_kernel())\n",
    "len(cupmap.right_kernel().basis())"
   ]
  }
 ],
 "metadata": {
  "kernelspec": {
   "display_name": "SageMath 9.0",
   "language": "sage",
   "name": "sagemath"
  },
  "language_info": {
   "codemirror_mode": {
    "name": "ipython",
    "version": 3
   },
   "file_extension": ".py",
   "mimetype": "text/x-python",
   "name": "python",
   "nbconvert_exporter": "python",
   "pygments_lexer": "ipython3",
   "version": "3.7.3"
  }
 },
 "nbformat": 4,
 "nbformat_minor": 4
}
